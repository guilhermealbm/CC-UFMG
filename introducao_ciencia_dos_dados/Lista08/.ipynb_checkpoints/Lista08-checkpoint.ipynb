{
 "cells": [
  {
   "cell_type": "markdown",
   "metadata": {
    "deletable": false,
    "editable": false,
    "nbgrader": {
     "checksum": "796114292f40d93792b787b19fbed7ee",
     "grade": false,
     "grade_id": "cellc-a00",
     "locked": true,
     "schema_version": 1,
     "solution": false
    }
   },
   "source": [
    "# Lista 08 - Comparando Regressões"
   ]
  },
  {
   "cell_type": "markdown",
   "metadata": {
    "deletable": false,
    "editable": false,
    "nbgrader": {
     "checksum": "c77a6c3fedbe648e6e209ba6323f711e",
     "grade": false,
     "grade_id": "cell-acd6c643a4ce1477",
     "locked": true,
     "schema_version": 1,
     "solution": false
    }
   },
   "source": [
    "# Exercício 01:\n",
    "\n",
    "Analise o desempenho do kNN e de uma Regressão Linear Regularizada para **pelo menos um** dos conjuntos de dados disponível na [seção de regressão linear múltipla](http://college.cengage.com/mathematics/brase/understandable_statistics/7e/students/datasets/mlr/frames/frame.html) da página do *Livro Understandable Statistics* de Charles Brase e Corrinne Brase. Para o conjunto de dados que escolheu, execute a regressão linear múltipla para explicar o fator $X1$ dos dados ([ver descrição de um dos conjuntos](http://college.cengage.com/mathematics/brase/understandable_statistics/7e/students/datasets/mlr/frames/frame.html)) a partir dos outros fatores. \n",
    "\n",
    "Para a questão, faça as seguintes tarefas:\n",
    "\n",
    "* Realize treino, validação e teste\n",
    "* Compare as métricas no teste\n",
    "* Diferente da lista anterior, reporte o erro quadrado médio no conjunto de teste."
   ]
  },
  {
   "cell_type": "code",
   "execution_count": 1,
   "metadata": {
    "deletable": false,
    "nbgrader": {
     "checksum": "c4c170d5f5a66e6cffe2a8da92fb9285",
     "grade": true,
     "grade_id": "cell-1b46a0ab690a7b8c",
     "locked": false,
     "points": 4,
     "schema_version": 1,
     "solution": true
    }
   },
   "outputs": [],
   "source": [
    "# YOUR CODE HERE\n",
    "import pandas as pd\n",
    "import numpy as np\n",
    "from sklearn.model_selection import train_test_split\n",
    "from sklearn.neighbors import KNeighborsClassifier\n",
    "from sklearn.metrics import accuracy_score"
   ]
  },
  {
   "cell_type": "code",
   "execution_count": 2,
   "metadata": {},
   "outputs": [
    {
     "name": "stdout",
     "output_type": "stream",
     "text": [
      "*** No CODEPAGE record, no encoding_override: will use 'ascii'\n"
     ]
    },
    {
     "data": {
      "text/html": [
       "<div>\n",
       "<style scoped>\n",
       "    .dataframe tbody tr th:only-of-type {\n",
       "        vertical-align: middle;\n",
       "    }\n",
       "\n",
       "    .dataframe tbody tr th {\n",
       "        vertical-align: top;\n",
       "    }\n",
       "\n",
       "    .dataframe thead th {\n",
       "        text-align: right;\n",
       "    }\n",
       "</style>\n",
       "<table border=\"1\" class=\"dataframe\">\n",
       "  <thead>\n",
       "    <tr style=\"text-align: right;\">\n",
       "      <th></th>\n",
       "      <th>X1</th>\n",
       "      <th>X2</th>\n",
       "      <th>X3</th>\n",
       "      <th>X4</th>\n",
       "      <th>X5</th>\n",
       "      <th>X6</th>\n",
       "      <th>X7</th>\n",
       "    </tr>\n",
       "  </thead>\n",
       "  <tbody>\n",
       "    <tr>\n",
       "      <th>0</th>\n",
       "      <td>6.9</td>\n",
       "      <td>1.8</td>\n",
       "      <td>30.2</td>\n",
       "      <td>58.3</td>\n",
       "      <td>27.3</td>\n",
       "      <td>84.9</td>\n",
       "      <td>-14.2</td>\n",
       "    </tr>\n",
       "    <tr>\n",
       "      <th>1</th>\n",
       "      <td>8.4</td>\n",
       "      <td>28.5</td>\n",
       "      <td>38.8</td>\n",
       "      <td>87.5</td>\n",
       "      <td>39.8</td>\n",
       "      <td>172.6</td>\n",
       "      <td>-34.1</td>\n",
       "    </tr>\n",
       "    <tr>\n",
       "      <th>2</th>\n",
       "      <td>5.7</td>\n",
       "      <td>7.8</td>\n",
       "      <td>31.7</td>\n",
       "      <td>83.5</td>\n",
       "      <td>26.0</td>\n",
       "      <td>154.2</td>\n",
       "      <td>-15.8</td>\n",
       "    </tr>\n",
       "    <tr>\n",
       "      <th>3</th>\n",
       "      <td>7.4</td>\n",
       "      <td>2.3</td>\n",
       "      <td>24.2</td>\n",
       "      <td>14.2</td>\n",
       "      <td>29.4</td>\n",
       "      <td>35.2</td>\n",
       "      <td>-13.9</td>\n",
       "    </tr>\n",
       "    <tr>\n",
       "      <th>4</th>\n",
       "      <td>8.5</td>\n",
       "      <td>-0.7</td>\n",
       "      <td>28.1</td>\n",
       "      <td>46.7</td>\n",
       "      <td>26.6</td>\n",
       "      <td>69.2</td>\n",
       "      <td>-13.9</td>\n",
       "    </tr>\n",
       "  </tbody>\n",
       "</table>\n",
       "</div>"
      ],
      "text/plain": [
       "    X1    X2    X3    X4    X5     X6    X7\n",
       "0  6.9   1.8  30.2  58.3  27.3   84.9 -14.2\n",
       "1  8.4  28.5  38.8  87.5  39.8  172.6 -34.1\n",
       "2  5.7   7.8  31.7  83.5  26.0  154.2 -15.8\n",
       "3  7.4   2.3  24.2  14.2  29.4   35.2 -13.9\n",
       "4  8.5  -0.7  28.1  46.7  26.6   69.2 -13.9"
      ]
     },
     "execution_count": 2,
     "metadata": {},
     "output_type": "execute_result"
    }
   ],
   "source": [
    "#importação dos dados\n",
    "df = pd.read_excel('./mlr10.xls')\n",
    "df.head()"
   ]
  },
  {
   "cell_type": "code",
   "execution_count": 3,
   "metadata": {},
   "outputs": [],
   "source": [
    "X = df.loc[:, df.columns != 'X1'].values\n",
    "y = df[['X1']].values.ravel()\n",
    "\n",
    "X_train_t, X_test, y_train_t, y_test = train_test_split(X, y, test_size=0.3)\n",
    "\n",
    "y_ = np.around(y.ravel(),0)"
   ]
  },
  {
   "cell_type": "code",
   "execution_count": 4,
   "metadata": {},
   "outputs": [
    {
     "name": "stderr",
     "output_type": "stream",
     "text": [
      "/usr/lib/python3.7/site-packages/sklearn/model_selection/_split.py:652: Warning: The least populated class in y has only 1 members, which is too few. The minimum number of members in any class cannot be less than n_splits=5.\n",
      "  % (min_groups, self.n_splits)), Warning)\n",
      "/usr/lib/python3.7/site-packages/sklearn/model_selection/_search.py:841: DeprecationWarning: The default of the `iid` parameter will change from True to False in version 0.22 and will be removed in 0.24. This will change numeric results when test-set sizes are unequal.\n",
      "  DeprecationWarning)\n"
     ]
    },
    {
     "data": {
      "text/plain": [
       "{'n_neighbors': 4}"
      ]
     },
     "execution_count": 4,
     "metadata": {},
     "output_type": "execute_result"
    }
   ],
   "source": [
    "from sklearn.model_selection import GridSearchCV\n",
    "\n",
    "knn = KNeighborsClassifier()\n",
    "param_grid = {'n_neighbors': np.arange(1, 25)}\n",
    "knn_gscv = GridSearchCV(knn, param_grid, cv=5)\n",
    "knn_gscv.fit(X, y_)\n",
    "knn_gscv.best_params_"
   ]
  },
  {
   "cell_type": "code",
   "execution_count": 5,
   "metadata": {},
   "outputs": [],
   "source": [
    "y_train_t_int = np.around(y_train_t.ravel(),0)\n",
    "\n",
    "model = KNeighborsClassifier(n_neighbors=knn_gscv.best_params_.get('n_neighbors'))\n",
    "model.fit(X_train_t, y_train_t_int.ravel())\n",
    "y_result_test = model.predict(X_test)"
   ]
  },
  {
   "cell_type": "code",
   "execution_count": 6,
   "metadata": {},
   "outputs": [
    {
     "name": "stdout",
     "output_type": "stream",
     "text": [
      "Erros quadráticos:  23.672857142857143\n"
     ]
    }
   ],
   "source": [
    "print('Erros quadráticos: ', ((y_result_test - y_test)**2).mean())\n"
   ]
  },
  {
   "cell_type": "code",
   "execution_count": 7,
   "metadata": {},
   "outputs": [],
   "source": [
    "from sklearn.linear_model import Ridge\n",
    "from sklearn.linear_model import RidgeCV\n",
    "from sklearn.datasets import load_boston\n",
    "from sklearn.preprocessing import StandardScaler\n",
    "\n",
    "#Regressão Linear Regularizada\n",
    "\n",
    "boston = load_boston()\n",
    "X = boston.data\n",
    "y = boston.target\n",
    "\n",
    "scaler = StandardScaler()\n",
    "X_std = scaler.fit_transform(X)"
   ]
  },
  {
   "cell_type": "code",
   "execution_count": 8,
   "metadata": {},
   "outputs": [],
   "source": [
    "regr_cv = RidgeCV(alphas=[0.1, 0.2, 0.3, 0.4, 0.5, 0.6, 0.7, 0.8, 0.9, 1, 1.1, 1.2, 1.3, 1.4, 1.5, 1.6, 2, 3, 4, 5, 6, 7, 8, 9, 10])"
   ]
  },
  {
   "cell_type": "code",
   "execution_count": 9,
   "metadata": {},
   "outputs": [],
   "source": [
    "model_cv = regr_cv.fit(X_std, y)"
   ]
  },
  {
   "cell_type": "code",
   "execution_count": 10,
   "metadata": {},
   "outputs": [
    {
     "data": {
      "text/plain": [
       "5.0"
      ]
     },
     "execution_count": 10,
     "metadata": {},
     "output_type": "execute_result"
    }
   ],
   "source": [
    "model_cv.alpha_"
   ]
  },
  {
   "cell_type": "code",
   "execution_count": 11,
   "metadata": {},
   "outputs": [],
   "source": [
    "model = Ridge(alpha=model_cv.alpha_, fit_intercept=True).fit(X_train_t, y_train_t)\n",
    "y_rid_test = model.predict(X_test)"
   ]
  },
  {
   "cell_type": "code",
   "execution_count": 12,
   "metadata": {},
   "outputs": [
    {
     "name": "stdout",
     "output_type": "stream",
     "text": [
      "Erros quadráticos:  9.670627704512594\n"
     ]
    }
   ],
   "source": [
    "print('Erros quadráticos: ', ((y_rid_test - y_test)**2).mean())"
   ]
  },
  {
   "cell_type": "markdown",
   "metadata": {
    "deletable": false,
    "editable": false,
    "nbgrader": {
     "checksum": "c5c0a788bafbd1227adf600b857ee636",
     "grade": false,
     "grade_id": "cell-b8fab7f24e1b2a35",
     "locked": true,
     "schema_version": 1,
     "solution": false
    }
   },
   "source": [
    "Explique e discuta sobre os resultados encontrados no campo abaixo."
   ]
  },
  {
   "cell_type": "markdown",
   "metadata": {
    "deletable": false,
    "nbgrader": {
     "checksum": "27383ddc0e3db055b7bbfb577b77eca6",
     "grade": true,
     "grade_id": "cell-713eb691ead1e6c1",
     "locked": false,
     "points": 1,
     "schema_version": 1,
     "solution": true
    }
   },
   "source": [
    "YOUR ANSWER HERE\n",
    "\n",
    "Conforme observado pelos erros quadráticos, os métodos obtiveram bons resultados para as regressões, sobretudo considerando as dimensões reduzidas do dataset disponibilizado.\n",
    "\n",
    "Comparando os métodos entre si, pode-se notar que a Regressão Linear Regularizada obteve um desempenho melhor que o KNN (9.67 vs 23.6 considerando os erros quadráticos). A razão dessa diferença diz respeito à natureza do método kNN, que aceita apenas classes, o que nos obrigou a transformar todos os números racionais em inteiros, perdendo precisão. \n",
    "\n",
    "Dessa forma, observa-se a importância da reflexão a respeito da escolha do modelo que melhor adequa aos dados disponíveis, já que, mesmo que sejam poucos dados (como é o caso atual), uma boa escolha pode gerar uma boa regressão, conforme visto para a Regressão Linear Regularizada acima."
   ]
  }
 ],
 "metadata": {
  "kernelspec": {
   "display_name": "Python 3",
   "language": "python",
   "name": "python3"
  },
  "language_info": {
   "codemirror_mode": {
    "name": "ipython",
    "version": 3
   },
   "file_extension": ".py",
   "mimetype": "text/x-python",
   "name": "python",
   "nbconvert_exporter": "python",
   "pygments_lexer": "ipython3",
   "version": "3.7.4"
  }
 },
 "nbformat": 4,
 "nbformat_minor": 2
}
