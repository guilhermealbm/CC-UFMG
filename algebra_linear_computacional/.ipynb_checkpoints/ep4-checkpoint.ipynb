{
 "cells": [
  {
   "cell_type": "markdown",
   "metadata": {},
   "source": [
    "Before you turn this problem in, make sure everything runs as expected. First, **restart the kernel** (in the menubar, select Kernel$\\rightarrow$Restart) and then **run all cells** (in the menubar, select Cell$\\rightarrow$Run All).\n",
    "\n",
    "Make sure you fill in any place that says `YOUR CODE HERE` or \"YOUR ANSWER HERE\", as well as your name and collaborators below:"
   ]
  },
  {
   "cell_type": "code",
   "execution_count": 1,
   "metadata": {},
   "outputs": [],
   "source": [
    "NAME = \"Guilherme de Abreu Lima Buitrago Miranda\"\n",
    "COLLABORATORS = \"\""
   ]
  },
  {
   "cell_type": "markdown",
   "metadata": {},
   "source": [
    "---"
   ]
  },
  {
   "cell_type": "markdown",
   "metadata": {
    "deletable": false,
    "editable": false,
    "nbgrader": {
     "checksum": "9b8c75743a7bbfb5f41c67c9bb50b975",
     "grade": false,
     "grade_id": "cell-1cec5ee110f26162",
     "locked": true,
     "schema_version": 1,
     "solution": false
    }
   },
   "source": [
    "# Exercício Prático 4: Uso da Decomposição LU\n",
    "\n",
    "Neste exercício vamos estudar o ganho de desempenho ao se utilizar a decomposição LU para resolver diversos sistemas do tipo $Ax_1=b_1, Ax_2=b_2, \\ldots Ax_k=b_k$."
   ]
  },
  {
   "cell_type": "markdown",
   "metadata": {
    "deletable": false,
    "editable": false,
    "nbgrader": {
     "checksum": "e1759e3334b9dd9c07df8a562f99d9d1",
     "grade": false,
     "grade_id": "cell-7c2014d5328a1027",
     "locked": true,
     "schema_version": 1,
     "solution": false
    }
   },
   "source": [
    "### Apresentação da Decomposição LU e da Eliminação de Gauss\n",
    "\n",
    "Na aula do dia 11/04 vimos que a decomposição $A = LU$ consiste em decompor uma matriz $A$ no produto de uma matriz triangular inferior $L$ por uma matriz triangular superior $U$. Em particular, observamos que os multiplicadores da eliminação de Gauss são utilizados para \"preencher\" a matriz $L$.\n",
    "\n",
    "**Por simplicidade, vamos assumir que todas as matrizes são quadradas.**\n",
    "\n",
    "A implementação da decomposição LU é apresentada abaixo."
   ]
  },
  {
   "cell_type": "code",
   "execution_count": 2,
   "metadata": {
    "deletable": false,
    "editable": false,
    "nbgrader": {
     "checksum": "ae91506988ce085d1497eb67cd174f24",
     "grade": false,
     "grade_id": "cell-1cef18acd2d00556",
     "locked": true,
     "schema_version": 1,
     "solution": false
    }
   },
   "outputs": [],
   "source": [
    "import numpy as np\n",
    "def LU(A):\n",
    "    U = np.copy(A)\n",
    "    m, n = A.shape\n",
    "    L = np.zeros((n,n))\n",
    "    for j in range(n-1):\n",
    "        for i in range(j+1,n):\n",
    "            L[i,j] = U[i,j]/U[j,j]\n",
    "            U[i,j+1:n] = U[i,j+1:n]-L[i,j] * U[j,j+1:n]\n",
    "    L = L + np.eye(n)\n",
    "    return L, np.triu(U)"
   ]
  },
  {
   "cell_type": "markdown",
   "metadata": {
    "deletable": false,
    "editable": false,
    "nbgrader": {
     "checksum": "0fb634c4e6ee347ad57def8f8f87749a",
     "grade": false,
     "grade_id": "cell-30b61f21ce2b0458",
     "locked": true,
     "schema_version": 1,
     "solution": false
    }
   },
   "source": [
    "Note que ela é muito semelhante à implementação da Eliminação de Gauss, apresentada a seguir. Uma diferença importante é que a Eliminação de Gauss também recebe como parâmetro um vetor b."
   ]
  },
  {
   "cell_type": "code",
   "execution_count": 3,
   "metadata": {
    "deletable": false,
    "editable": false,
    "nbgrader": {
     "checksum": "7324b5e1604f6818fc9d22c263e50edb",
     "grade": false,
     "grade_id": "cell-e1fe2d1c7153db19",
     "locked": true,
     "schema_version": 1,
     "solution": false
    }
   },
   "outputs": [],
   "source": [
    "def eliminacaoDeGauss(A,b):\n",
    "    U=A.copy()\n",
    "    d=b.copy()\n",
    "    n = len(b)\n",
    "    for j in range(n-1):\n",
    "        r = 1.0/U[j,j]\n",
    "        for i in range(j+1,n):\n",
    "            m = U[i,j]*r\n",
    "            U[i,j+1:n] = U[i,j+1:n]-m*U[j,j+1:n]\n",
    "            d[i] = d[i]-m*d[j]\n",
    "    return np.triu(U), d"
   ]
  },
  {
   "cell_type": "markdown",
   "metadata": {
    "deletable": false,
    "editable": false,
    "nbgrader": {
     "checksum": "3b2a6013db84c2844f64749192ea3bdc",
     "grade": false,
     "grade_id": "cell-7fd957b3b817d2b3",
     "locked": true,
     "schema_version": 1,
     "solution": false
    }
   },
   "source": [
    "A solução de um sistema do tipo $Ax=b$ a partir da decomposição LU de $A$ é realizada em duas etapas.\n",
    "* Etapa 1: solução do sistema triangular $Ly=b$\n",
    "* Etapa 2: solução do sistema triangular $Ux=y$.\n",
    "\n",
    "O exemplo a seguir mostra a construção de uma matriz $A$ $n \\times n$, um vetor $b$ de tamanho $n$ e a solução do sistema $Ax=b$ usando a função LU definida anteriormente."
   ]
  },
  {
   "cell_type": "code",
   "execution_count": 4,
   "metadata": {
    "deletable": false,
    "editable": false,
    "nbgrader": {
     "checksum": "4ffe2cd28969d0c703e181324dd3f5ff",
     "grade": false,
     "grade_id": "cell-59d95d76262aca9e",
     "locked": true,
     "schema_version": 1,
     "solution": false
    }
   },
   "outputs": [
    {
     "name": "stdout",
     "output_type": "stream",
     "text": [
      "A = [[0.61468847 0.82297525 0.73339981]\n",
      " [0.47781599 0.40468214 0.43746828]\n",
      " [0.38812295 0.63354983 0.24381999]]\n",
      "b = [0.12714219 0.54493105 0.22131261]\n"
     ]
    }
   ],
   "source": [
    "from scipy.linalg import solve_triangular\n",
    " \n",
    "n = 3\n",
    "A = np.random.random((n,n))\n",
    "b = np.random.random(n)\n",
    "#A = np.array([[1,-3,2],[-2,8,-1],[4,-6,5]])\n",
    "#b = np.array([11,-15,29])\n",
    "print('A =',A)\n",
    "print('b =',b)"
   ]
  },
  {
   "cell_type": "code",
   "execution_count": 5,
   "metadata": {
    "deletable": false,
    "editable": false,
    "nbgrader": {
     "checksum": "a52d209540ebff76a434f2cff3b46e0d",
     "grade": false,
     "grade_id": "cell-eac3dd2f9977ea07",
     "locked": true,
     "schema_version": 1,
     "solution": false
    }
   },
   "outputs": [
    {
     "name": "stdout",
     "output_type": "stream",
     "text": [
      "LU: x = [ 3.29934112 -1.18702984 -1.25992475]\n"
     ]
    }
   ],
   "source": [
    "L, U = LU(A)\n",
    "y = solve_triangular(L,b,lower=True)\n",
    "x = solve_triangular(U,y)\n",
    "print('LU: x =',x)"
   ]
  },
  {
   "cell_type": "markdown",
   "metadata": {
    "deletable": false,
    "editable": false,
    "nbgrader": {
     "checksum": "842779f8a136a04387c750704f3b1271",
     "grade": false,
     "grade_id": "cell-153ad67527204151",
     "locked": true,
     "schema_version": 1,
     "solution": false
    }
   },
   "source": [
    "O exemplo a seguir mostra como resolver o mesmo sistema utilizando a Eliminação de Gauss."
   ]
  },
  {
   "cell_type": "code",
   "execution_count": 6,
   "metadata": {
    "deletable": false,
    "editable": false,
    "nbgrader": {
     "checksum": "16712a6b68e8b5db099898816b731ffd",
     "grade": false,
     "grade_id": "cell-1a0c5b0294a958f2",
     "locked": true,
     "schema_version": 1,
     "solution": false
    }
   },
   "outputs": [
    {
     "name": "stdout",
     "output_type": "stream",
     "text": [
      "Eliminação de Gauss: x = [ 3.29934112 -1.18702984 -1.25992475]\n"
     ]
    }
   ],
   "source": [
    "U, d = eliminacaoDeGauss(A,b)\n",
    "x = solve_triangular(U,d)\n",
    "print('Eliminação de Gauss: x =',x)"
   ]
  },
  {
   "cell_type": "markdown",
   "metadata": {
    "deletable": false,
    "editable": false,
    "nbgrader": {
     "checksum": "192887326dba8871401f1abd73d51235",
     "grade": false,
     "grade_id": "cell-076494c5fb4dbe8e",
     "locked": true,
     "schema_version": 1,
     "solution": false
    }
   },
   "source": [
    "Como era de se esperar, a solução é exatamente a mesma. Usando a função mágica %timeit, iremos comparar o tempo necessário para resolver o sistema $Ax=b$ através de cada um dos métodos."
   ]
  },
  {
   "cell_type": "code",
   "execution_count": 7,
   "metadata": {
    "deletable": false,
    "editable": false,
    "nbgrader": {
     "checksum": "92cd680ff42b2ecc818e7948f9c1a80d",
     "grade": false,
     "grade_id": "cell-88d9a7bd65dfc09c",
     "locked": true,
     "schema_version": 1,
     "solution": false
    }
   },
   "outputs": [
    {
     "name": "stdout",
     "output_type": "stream",
     "text": [
      "6.794705833332652e-05\n"
     ]
    }
   ],
   "source": [
    "time_info = %timeit -r 3 -n 1000 -q -o L,U = LU(A)\n",
    "print(time_info.average)"
   ]
  },
  {
   "cell_type": "code",
   "execution_count": 8,
   "metadata": {
    "deletable": false,
    "editable": false,
    "nbgrader": {
     "checksum": "90e3d878ccbc3f6067e9d4d7b3d1894b",
     "grade": false,
     "grade_id": "cell-4f6c943fea19806f",
     "locked": true,
     "schema_version": 1,
     "solution": false
    }
   },
   "outputs": [
    {
     "name": "stdout",
     "output_type": "stream",
     "text": [
      "8.550589099998736e-05\n"
     ]
    }
   ],
   "source": [
    "time_info = %timeit -r 3 -n 1000 -q -o y = solve_triangular(L,b,lower=True); x = solve_triangular(U,y)\n",
    "print(time_info.average)"
   ]
  },
  {
   "cell_type": "code",
   "execution_count": 9,
   "metadata": {
    "deletable": false,
    "editable": false,
    "nbgrader": {
     "checksum": "1886354b3bbe1b809ddf71b8d987909b",
     "grade": false,
     "grade_id": "cell-2ef3b2f62ed37dbc",
     "locked": true,
     "schema_version": 1,
     "solution": false
    }
   },
   "outputs": [
    {
     "name": "stdout",
     "output_type": "stream",
     "text": [
      "6.299818499996945e-05\n"
     ]
    }
   ],
   "source": [
    "time_info = %timeit -r 3 -n 1000 -q -o U, d = eliminacaoDeGauss(A,b)\n",
    "print(time_info.average)"
   ]
  },
  {
   "cell_type": "code",
   "execution_count": 10,
   "metadata": {
    "deletable": false,
    "editable": false,
    "nbgrader": {
     "checksum": "aa0a9336d6e32c92648122fb8954cc88",
     "grade": false,
     "grade_id": "cell-0dae43fb468017ec",
     "locked": true,
     "schema_version": 1,
     "solution": false
    }
   },
   "outputs": [
    {
     "name": "stdout",
     "output_type": "stream",
     "text": [
      "5.694107266663196e-05\n"
     ]
    }
   ],
   "source": [
    "time_info = %timeit -r 3 -n 1000 -q -o x = solve_triangular(U,d)\n",
    "print(time_info.average)"
   ]
  },
  {
   "cell_type": "markdown",
   "metadata": {
    "deletable": false,
    "editable": false,
    "nbgrader": {
     "checksum": "9b5251a2ce8338b29a3d1feacfd70d56",
     "grade": false,
     "grade_id": "cell-f5bcaffeeea66a8d",
     "locked": true,
     "schema_version": 1,
     "solution": false
    }
   },
   "source": [
    "Como pode-se observar, o tempo para executar ```LU``` e ```eliminacaoDeGauss``` é praticamente o mesmo, mas o LU requer a solução de dois sistemas triangulares, enquanto Gauss requer apenas um. O objetivo deste trabalho é mostrar que, para sistemas grandes, quando a fatoração LU é reaproveitada para resolver uma sequência de sistemas $Ax_1=b_1, \\ldots, Ax_k=b_k$, a solução via LU acaba sendo mais rápida que via Eliminação de Gauss."
   ]
  },
  {
   "cell_type": "markdown",
   "metadata": {
    "deletable": false,
    "editable": false,
    "nbgrader": {
     "checksum": "7b51602cfd571450a2b64af78a667e01",
     "grade": false,
     "grade_id": "cell-9db97f4157c5b6de",
     "locked": true,
     "schema_version": 1,
     "solution": false
    }
   },
   "source": [
    "## Questão 1: Gerando os sistemas\n",
    "\n",
    "Nesta questão você deve gerar as matrizes $A_{n \\times n}$ e os vetores $b_1, \\ldots, b_k$ usando a função ```numpy.random.random```. Os vetores $b$ devem ficar armazenados em uma matriz $B_{n \\times k}$. Inicialmente faremos $n=10$ e $k=10$."
   ]
  },
  {
   "cell_type": "code",
   "execution_count": 11,
   "metadata": {
    "deletable": false,
    "nbgrader": {
     "checksum": "eb2a6a32d2ee65b22f3d31b4c20c6b97",
     "grade": false,
     "grade_id": "cell-9b8a705a4ad976f1",
     "locked": false,
     "schema_version": 1,
     "solution": true
    }
   },
   "outputs": [],
   "source": [
    "def geraMatrizes(n,k):\n",
    "    # YOUR CODE HERE\n",
    "    A = np.random.random((n,n))\n",
    "    B = np.random.random((n, k))\n",
    "    return A,B"
   ]
  },
  {
   "cell_type": "code",
   "execution_count": 12,
   "metadata": {
    "deletable": false,
    "editable": false,
    "nbgrader": {
     "checksum": "313e2e6f401fcaf749faeda79ddb720c",
     "grade": true,
     "grade_id": "cell-fcaac53397910c74",
     "locked": true,
     "points": 1,
     "schema_version": 1,
     "solution": false
    }
   },
   "outputs": [],
   "source": [
    "A,B = geraMatrizes(10,10)\n",
    "C,D = geraMatrizes(10,10)\n",
    "assert np.all(A != C) and np.all(B != D)"
   ]
  },
  {
   "cell_type": "markdown",
   "metadata": {
    "deletable": false,
    "editable": false,
    "nbgrader": {
     "checksum": "21ff8d2ae91f835583d8b3904a6fbc68",
     "grade": false,
     "grade_id": "cell-6f3f043308c363cd",
     "locked": true,
     "schema_version": 1,
     "solution": false
    }
   },
   "source": [
    "## Questão 2: Medindo o tempo para a resolução dos sistemas\n",
    "\n",
    "Escreva uma função ```resolveViaGauss``` que resolve todos os sistemas $Ax_1=b_1, \\ldots, Ax_k=b_k$ por Eliminação de Gauss e outra função ```resolveViaLU``` que os resolve por $LU$. As soluções $x_1, \\ldots, x_k$ devem ser retornadas como colunas de uma matriz $X$."
   ]
  },
  {
   "cell_type": "code",
   "execution_count": 13,
   "metadata": {
    "deletable": false,
    "nbgrader": {
     "checksum": "068ed8daa97e9e492a4ab622af368c45",
     "grade": false,
     "grade_id": "cell-e7fcff365a233f09",
     "locked": false,
     "schema_version": 1,
     "solution": true
    }
   },
   "outputs": [],
   "source": [
    "def resolveViaGauss(A,B):\n",
    "    n,k = B.shape\n",
    "    X = np.zeros((n,k))\n",
    "    # YOUR CODE HERE\n",
    "    \n",
    "    for i in range (0, k):\n",
    "        U, d = eliminacaoDeGauss(A,B[:, i])\n",
    "        x = solve_triangular(U,d)\n",
    "        X[:, i] = x\n",
    "    \n",
    "    \n",
    "    return X"
   ]
  },
  {
   "cell_type": "code",
   "execution_count": 14,
   "metadata": {
    "deletable": false,
    "nbgrader": {
     "checksum": "541b92b6cfd0b23b7b1aeb5f375897f6",
     "grade": false,
     "grade_id": "cell-6e1d40fad3caf3e4",
     "locked": false,
     "schema_version": 1,
     "solution": true
    }
   },
   "outputs": [],
   "source": [
    "def resolveViaLU(A,B):\n",
    "    n,k = B.shape\n",
    "    X = np.zeros((n,k))\n",
    "    # YOUR CODE HERE\n",
    "    \n",
    "    L, U = LU(A)\n",
    "    \n",
    "    for i in range (0, k):\n",
    "        y = solve_triangular(L,B[:, i],lower=True)\n",
    "        x = solve_triangular(U,y)\n",
    "        X[:, i] = x\n",
    "    \n",
    "    return X"
   ]
  },
  {
   "cell_type": "code",
   "execution_count": 15,
   "metadata": {
    "deletable": false,
    "editable": false,
    "nbgrader": {
     "checksum": "26473109695581350de7e176ee58155e",
     "grade": true,
     "grade_id": "cell-3c5f6cf8ca467a48",
     "locked": true,
     "points": 1,
     "schema_version": 1,
     "solution": false
    }
   },
   "outputs": [],
   "source": [
    "X = resolveViaGauss(A,B)\n",
    "n,k = B.shape\n",
    "for j in range(k):\n",
    "    assert np.allclose(A@X[:,j],B[:,j])"
   ]
  },
  {
   "cell_type": "code",
   "execution_count": 16,
   "metadata": {
    "deletable": false,
    "editable": false,
    "nbgrader": {
     "checksum": "4a5be487bfc9903518dbb60b4d6648b6",
     "grade": true,
     "grade_id": "cell-df6f7e8a69b0592a",
     "locked": true,
     "points": 1,
     "schema_version": 1,
     "solution": false
    }
   },
   "outputs": [],
   "source": [
    "X = resolveViaLU(A,B)\n",
    "n,k = B.shape\n",
    "for j in range(k):\n",
    "    assert np.allclose(A@X[:,j],B[:,j])"
   ]
  },
  {
   "cell_type": "markdown",
   "metadata": {
    "deletable": false,
    "editable": false,
    "nbgrader": {
     "checksum": "220c8dfc47c5da58f485d432ba3eb248",
     "grade": false,
     "grade_id": "cell-a70b3cb6a0ec6c54",
     "locked": true,
     "schema_version": 1,
     "solution": false
    }
   },
   "source": [
    "## Questão 3: Comparando o tempo\n",
    "\n",
    "Agora vamos usar a função mágica ```%timeit``` para comparar o tempo gasto por cada uma das funções. Abaixo segue um exemplo para $n=10$ e $k=10$. Por simplicidade, vamos sempre fazer $n=k$.  "
   ]
  },
  {
   "cell_type": "code",
   "execution_count": 17,
   "metadata": {
    "deletable": false,
    "editable": false,
    "nbgrader": {
     "checksum": "93bc082245a88a4a12835bc4b58c3e2d",
     "grade": false,
     "grade_id": "cell-4bd6bc4db55bb6a2",
     "locked": true,
     "schema_version": 1,
     "solution": false
    }
   },
   "outputs": [
    {
     "name": "stdout",
     "output_type": "stream",
     "text": [
      "Tempo médio para resolver via Gauss: 0.010914321666683059\n",
      "Tempo médio para resolver via LU: 0.0029134427777787806\n"
     ]
    }
   ],
   "source": [
    "n = k = 10\n",
    "A,B = geraMatrizes(n,k)\n",
    "time_info = %timeit -r 3 -n 3 -q -o  resolveViaGauss(A,B)\n",
    "print('Tempo médio para resolver via Gauss:',time_info.average)\n",
    "time_info = %timeit -r 3 -n 3 -q -o  resolveViaLU(A,B)\n",
    "print('Tempo médio para resolver via LU:',time_info.average)"
   ]
  },
  {
   "cell_type": "markdown",
   "metadata": {
    "deletable": false,
    "editable": false,
    "nbgrader": {
     "checksum": "74bfed64391ff64889957c258e6f2ada",
     "grade": false,
     "grade_id": "cell-6f98b31ad5164a24",
     "locked": true,
     "schema_version": 1,
     "solution": false
    }
   },
   "source": [
    "Na célula abaixo você deve criar um laço variando a ordem da matriz $A$ $n \\in \\{10,20,\\ldots,100\\}$ que irá armazenar o tempo médio de execução em função de $n$, para cada método de solução. Lembrando que $k=n$. Os resultados obtidos serão usados para plotar um gráfico com duas curvas usando a célula (somente leitura) seguinte."
   ]
  },
  {
   "cell_type": "code",
   "execution_count": 18,
   "metadata": {
    "deletable": false,
    "nbgrader": {
     "checksum": "7c5ef79f19310633ee34dffde372b119",
     "grade": true,
     "grade_id": "cell-7c942574aee580ad",
     "locked": false,
     "points": 1,
     "schema_version": 1,
     "solution": true
    }
   },
   "outputs": [],
   "source": [
    "nvals = np.arange(1,11)*10   \n",
    "\n",
    "# YOUR CODE HERE\n",
    "times_LU = []\n",
    "times_Gauss = []\n",
    "\n",
    "for n in nvals:\n",
    "    A,B = geraMatrizes(n,n)\n",
    "    time_info = %timeit -r 3 -n 3 -q -o  resolveViaGauss(A,B)\n",
    "    times_Gauss.append(time_info.average)\n",
    "    time_info = %timeit -r 3 -n 3 -q -o  resolveViaLU(A,B)\n",
    "    times_LU.append(time_info.average)"
   ]
  },
  {
   "cell_type": "code",
   "execution_count": 19,
   "metadata": {
    "deletable": false,
    "editable": false,
    "nbgrader": {
     "checksum": "dc541108ca21c6ae938b6790d7278465",
     "grade": false,
     "grade_id": "cell-1a8b85407a43d50e",
     "locked": true,
     "schema_version": 1,
     "solution": false
    }
   },
   "outputs": [
    {
     "data": {
      "text/plain": [
       "<matplotlib.legend.Legend at 0x7fe506b04d30>"
      ]
     },
     "execution_count": 19,
     "metadata": {},
     "output_type": "execute_result"
    },
    {
     "data": {
      "image/png": "[encoded data removed]",
      "text/plain": [
       "<Figure size 432x288 with 1 Axes>"
      ]
     },
     "metadata": {
      "needs_background": "light"
     },
     "output_type": "display_data"
    }
   ],
   "source": [
    "import matplotlib.pyplot as plt\n",
    "%matplotlib inline\n",
    "\n",
    "plt.plot(nvals,times_LU,label='LU')\n",
    "plt.plot(nvals,times_Gauss,label='Gauss')\n",
    "plt.xlabel('ordem da matriz (n)')\n",
    "plt.ylabel('tempo de execução')\n",
    "plt.legend()"
   ]
  }
 ],
 "metadata": {
  "kernelspec": {
   "display_name": "Python 3",
   "language": "python",
   "name": "python3"
  },
  "language_info": {
   "codemirror_mode": {
    "name": "ipython",
    "version": 3
   },
   "file_extension": ".py",
   "mimetype": "text/x-python",
   "name": "python",
   "nbconvert_exporter": "python",
   "pygments_lexer": "ipython3",
   "version": "3.7.3"
  }
 },
 "nbformat": 4,
 "nbformat_minor": 2
}
