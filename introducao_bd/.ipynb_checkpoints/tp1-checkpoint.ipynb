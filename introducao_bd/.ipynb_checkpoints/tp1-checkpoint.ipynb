{
 "cells": [
  {
   "cell_type": "code",
   "execution_count": 1,
   "metadata": {},
   "outputs": [],
   "source": [
    "#Nome: Guilherme de Abreu Lima Buitrago Miranda\n",
    "#Matrícula: 2018054788\n",
    "#Questões a serem feitas: 1, 6, 5, 8, 9, 10\n",
    "\n",
    "import io\n",
    "import sqlite3\n",
    "import pandas as pd"
   ]
  },
  {
   "cell_type": "code",
   "execution_count": 2,
   "metadata": {},
   "outputs": [],
   "source": [
    "conn = sqlite3.connect('tp1.db')\n",
    "cursor = conn.cursor()"
   ]
  },
  {
   "cell_type": "code",
   "execution_count": null,
   "metadata": {},
   "outputs": [],
   "source": [
    "f = io.open('despesas_publicas_tp1.sql', 'r', encoding='ISO-8859-1')\n",
    "sql = f.read()\n",
    "cursor.executescript(sql)"
   ]
  },
  {
   "cell_type": "code",
   "execution_count": null,
   "metadata": {},
   "outputs": [],
   "source": [
    "at1 = pd.read_sql_query(\"SELECT COD_SUBFUNCAO, NOME_SUBFUNCAO \"+\n",
    "    \"FROM SUBFUNCAO NATURAL JOIN DETALHAMENTO_FUNCAO WHERE COD_FUNCAO IN \"+\n",
    "    \"(SELECT COD_FUNCAO FROM DETALHAMENTO_FUNCAO GROUP BY COD_FUNCAO ORDER BY COUNT(*) DESC LIMIT 1)\",\n",
    "    conn)\n",
    "at1"
   ]
  },
  {
   "cell_type": "code",
   "execution_count": null,
   "metadata": {},
   "outputs": [],
   "source": [
    "at6=pd.read_sql_query(\"SELECT NOME_FUNCAO, NOME_SUBFUNCAO, SUM(VALOR_DESPESA) FROM \"+\n",
    "    \"FUNCAO NATURAL JOIN SUBFUNCAO NATURAL JOIN DETALHAMENTO_FUNCAO \"+\n",
    "    \"NATURAL JOIN DESPESA_PUBLICA NATURAL JOIN PROGRAMA_GOVERNO \"+\n",
    "    \"WHERE ANO_DESPESA = 2018 AND (MES_DESPESA = 7 \"+\n",
    "    \"OR MES_DESPESA = 8 OR MES_DESPESA = 9) AND NOME_PROGRAMA_GOVERNO = 'MAIS MEDICOS'\"+\n",
    "    \" GROUP BY COD_SUBFUNCAO\",\n",
    "    conn)\n",
    "\n",
    "at6"
   ]
  },
  {
   "cell_type": "code",
   "execution_count": null,
   "metadata": {},
   "outputs": [],
   "source": [
    "at5=pd.read_sql_query(\"SELECT COD_PROGRAMA_GOVERNO, NOME_PROGRAMA_GOVERNO FROM PROGRAMA_GOVERNO NATURAL JOIN \"+\n",
    "                      \"DETALHAMENTO_FUNCAO NATURAL JOIN DESPESA_PUBLICA NATURAL JOIN FUNCAO \"+\n",
    "                      \"WHERE ANO_DESPESA = 2018 AND NOME_FUNCAO = 'Educação' \" +\n",
    "                      \"GROUP BY COD_PROGRAMA_GOVERNO ORDER BY SUM(VALOR_DESPESA) DESC LIMIT 3\",\n",
    "    conn)\n",
    "\n",
    "at5"
   ]
  },
  {
   "cell_type": "code",
   "execution_count": null,
   "metadata": {},
   "outputs": [],
   "source": [
    "at8=pd.read_sql_query(\"SELECT NOME_PROGRAMA_GOVERNO, NOME_SUBFUNCAO, COUNT(*), SUM(VALOR_DESPESA) FROM \"+\n",
    "                      \"SUBFUNCAO NATURAL JOIN DETALHAMENTO_FUNCAO NATURAL JOIN PROGRAMA_GOVERNO NATURAL JOIN DESPESA_PUBLICA \"+\n",
    "                      \"GROUP BY NOME_PROGRAMA_GOVERNO, NOME_SUBFUNCAO\",\n",
    "    conn)\n",
    "\n",
    "at8"
   ]
  },
  {
   "cell_type": "code",
   "execution_count": null,
   "metadata": {},
   "outputs": [],
   "source": [
    "at9=pd.read_sql_query(\"SELECT COD_DESPESA, MES_DESPESA, ANO_DESPESA, MODALIDADE_DESPESA, VALOR_DESPESA \"\n",
    "                      \"FROM DESPESA_PUBLICA NATURAL JOIN \"+\n",
    "                      \"(SELECT COD_ORGAO, MAX(QTD_ORGAOS_SUBORDINADOS) FROM ORGAO)\",\n",
    "    conn)\n",
    "\n",
    "at9"
   ]
  },
  {
   "cell_type": "code",
   "execution_count": null,
   "metadata": {
    "scrolled": false
   },
   "outputs": [],
   "source": [
    "at10=pd.read_sql_query(\"SELECT COD_DESPESA, MES_DESPESA, ANO_DESPESA, MODALIDADE_DESPESA, VALOR_DESPESA \"+\n",
    "                      \"FROM DESPESA_PUBLICA NATURAL JOIN \"+\n",
    "                      \"(SELECT COD_ORGAO, SUM(VALOR_DESPESA) AS SOMA FROM DESPESA_PUBLICA WHERE ANO_DESPESA = 2018 \"+\n",
    "                      \"GROUP BY COD_ORGAO ORDER BY SOMA DESC LIMIT 1) \",\n",
    "    conn)\n",
    "\n",
    "at10"
   ]
  },
  {
   "cell_type": "code",
   "execution_count": null,
   "metadata": {},
   "outputs": [],
   "source": [
    "#Parte 2 - Tradução de Comandos da Álgebra Relacional"
   ]
  },
  {
   "cell_type": "code",
   "execution_count": null,
   "metadata": {},
   "outputs": [],
   "source": [
    "at12=pd.read_sql_query(\"SELECT NOME_FUNCAO, NOME_SUBFUNCAO FROM \" +\n",
    "                       \"(FUNCAO NATURAL JOIN DETALHAMENTO_FUNCAO NATURAL JOIN SUBFUNCAO)\",\n",
    "    conn)\n",
    "\n",
    "at12"
   ]
  },
  {
   "cell_type": "code",
   "execution_count": null,
   "metadata": {},
   "outputs": [],
   "source": [
    "at13=pd.read_sql_query(\"SELECT DISTINCT MODALIDADE_DESPESA, VALOR_DESPESA, NOME_PROGRAMA_GOVERNO FROM \" +\n",
    "                       \"PROGRAMA_GOVERNO NATURAL JOIN DESPESA_PUBLICA WHERE MODALIDADE_DESPESA = 'Reserva de Contingência'\",\n",
    "    conn)\n",
    "\n",
    "at13"
   ]
  },
  {
   "cell_type": "code",
   "execution_count": null,
   "metadata": {},
   "outputs": [],
   "source": [
    "at14=pd.read_sql_query(\"SELECT DISTINCT VALOR_DESPESA, NOME_ORGAO FROM \" +\n",
    "                       \"DESPESA_PUBLICA NATURAL JOIN ORGAO WHERE NOME_ORGAO = 'Ministério da Fazenda'\",\n",
    "    conn)\n",
    "\n",
    "at14"
   ]
  },
  {
   "cell_type": "code",
   "execution_count": null,
   "metadata": {},
   "outputs": [],
   "source": [
    "at15=pd.read_sql_query(\"SELECT DISTINCT NOME_PROGRAMA_GOVERNO, VALOR_DESPESA FROM \" +\n",
    "                       \"DESPESA_PUBLICA NATURAL JOIN ORGAO NATURAL JOIN PROGRAMA_GOVERNO WHERE NOME_ORGAO = 'Ministério da Saúde'\",\n",
    "    conn)\n",
    "\n",
    "at15"
   ]
  }
 ],
 "metadata": {
  "kernelspec": {
   "display_name": "Python 3",
   "language": "python",
   "name": "python3"
  },
  "language_info": {
   "codemirror_mode": {
    "name": "ipython",
    "version": 3
   },
   "file_extension": ".py",
   "mimetype": "text/x-python",
   "name": "python",
   "nbconvert_exporter": "python",
   "pygments_lexer": "ipython3",
   "version": "3.7.3"
  }
 },
 "nbformat": 4,
 "nbformat_minor": 2
}
